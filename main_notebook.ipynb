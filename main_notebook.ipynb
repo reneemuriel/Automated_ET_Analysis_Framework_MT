{
 "cells": [
  {
   "cell_type": "code",
   "execution_count": null,
   "metadata": {},
   "outputs": [],
   "source": [
    "# test make_gaze_OGD.py\n",
    "import make_gaze_OGD\n"
   ]
  }
 ],
 "metadata": {
  "kernelspec": {
   "display_name": "Python 3.9.0 ('test2')",
   "language": "python",
   "name": "python3"
  },
  "language_info": {
   "name": "python",
   "version": "3.9.0"
  },
  "orig_nbformat": 4,
  "vscode": {
   "interpreter": {
    "hash": "0b8e622f0dd937c9fe073889a7ecaa90b0e3e2d474d6087af95db959ad884cbd"
   }
  }
 },
 "nbformat": 4,
 "nbformat_minor": 2
}
