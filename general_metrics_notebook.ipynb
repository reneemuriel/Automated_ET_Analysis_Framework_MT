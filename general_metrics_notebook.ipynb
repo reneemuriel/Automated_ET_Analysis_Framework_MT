{
 "cells": [
  {
   "cell_type": "code",
   "execution_count": 2,
   "metadata": {},
   "outputs": [],
   "source": [
    "from calendar import c\n",
    "from ntpath import join\n",
    "from re import A\n",
    "from zlib import DEF_BUF_SIZE\n",
    "import pandas as pd\n",
    "import seaborn as sns # added to OGM_HMM\n",
    "import numpy as np\n",
    "import matplotlib.pyplot as plt\n",
    "import shutil\n",
    "from glob import glob\n",
    "from pathlib import Path\n",
    "# from os import path\n",
    "import os\n",
    "# import glob\n",
    "from IPython.display import display\n",
    "\n",
    "import statistics"
   ]
  },
  {
   "cell_type": "code",
   "execution_count": 3,
   "metadata": {},
   "outputs": [],
   "source": [
    "# import\n",
    "trial_path = 'Data/gaze_input_for_tobiitocgom/group 1/participant10_trial03'\n",
    "cgom_data = pd.read_csv(trial_path + '_cgom.txt', sep='\\t')"
   ]
  },
  {
   "cell_type": "code",
   "execution_count": 16,
   "metadata": {},
   "outputs": [
    {
     "data": {
      "text/html": [
       "<div>\n",
       "<style scoped>\n",
       "    .dataframe tbody tr th:only-of-type {\n",
       "        vertical-align: middle;\n",
       "    }\n",
       "\n",
       "    .dataframe tbody tr th {\n",
       "        vertical-align: top;\n",
       "    }\n",
       "\n",
       "    .dataframe thead th {\n",
       "        text-align: right;\n",
       "    }\n",
       "</style>\n",
       "<table border=\"1\" class=\"dataframe\">\n",
       "  <thead>\n",
       "    <tr style=\"text-align: right;\">\n",
       "      <th></th>\n",
       "      <th>Event Start Trial Time [ms]</th>\n",
       "      <th>Event End Trial Time [ms]</th>\n",
       "      <th>Event Duration [ms]</th>\n",
       "      <th>Visual Intake Position X [px]</th>\n",
       "      <th>Visual Intake Position Y [px]</th>\n",
       "    </tr>\n",
       "  </thead>\n",
       "  <tbody>\n",
       "    <tr>\n",
       "      <th>0</th>\n",
       "      <td>0.0</td>\n",
       "      <td>165.0</td>\n",
       "      <td>165.0</td>\n",
       "      <td>851.0</td>\n",
       "      <td>508.0</td>\n",
       "    </tr>\n",
       "    <tr>\n",
       "      <th>1</th>\n",
       "      <td>250.0</td>\n",
       "      <td>370.0</td>\n",
       "      <td>120.0</td>\n",
       "      <td>879.0</td>\n",
       "      <td>477.0</td>\n",
       "    </tr>\n",
       "    <tr>\n",
       "      <th>2</th>\n",
       "      <td>388.0</td>\n",
       "      <td>1018.0</td>\n",
       "      <td>630.0</td>\n",
       "      <td>864.0</td>\n",
       "      <td>466.0</td>\n",
       "    </tr>\n",
       "    <tr>\n",
       "      <th>3</th>\n",
       "      <td>1306.0</td>\n",
       "      <td>1406.0</td>\n",
       "      <td>100.0</td>\n",
       "      <td>892.0</td>\n",
       "      <td>839.0</td>\n",
       "    </tr>\n",
       "    <tr>\n",
       "      <th>4</th>\n",
       "      <td>1416.0</td>\n",
       "      <td>2765.0</td>\n",
       "      <td>1349.0</td>\n",
       "      <td>895.0</td>\n",
       "      <td>627.0</td>\n",
       "    </tr>\n",
       "    <tr>\n",
       "      <th>...</th>\n",
       "      <td>...</td>\n",
       "      <td>...</td>\n",
       "      <td>...</td>\n",
       "      <td>...</td>\n",
       "      <td>...</td>\n",
       "    </tr>\n",
       "    <tr>\n",
       "      <th>668</th>\n",
       "      <td>314155.0</td>\n",
       "      <td>314825.0</td>\n",
       "      <td>670.0</td>\n",
       "      <td>863.0</td>\n",
       "      <td>697.0</td>\n",
       "    </tr>\n",
       "    <tr>\n",
       "      <th>669</th>\n",
       "      <td>314869.0</td>\n",
       "      <td>315139.0</td>\n",
       "      <td>270.0</td>\n",
       "      <td>826.0</td>\n",
       "      <td>576.0</td>\n",
       "    </tr>\n",
       "    <tr>\n",
       "      <th>670</th>\n",
       "      <td>315166.0</td>\n",
       "      <td>315236.0</td>\n",
       "      <td>70.0</td>\n",
       "      <td>744.0</td>\n",
       "      <td>609.0</td>\n",
       "    </tr>\n",
       "    <tr>\n",
       "      <th>671</th>\n",
       "      <td>315256.0</td>\n",
       "      <td>315356.0</td>\n",
       "      <td>100.0</td>\n",
       "      <td>688.0</td>\n",
       "      <td>653.0</td>\n",
       "    </tr>\n",
       "    <tr>\n",
       "      <th>672</th>\n",
       "      <td>315779.0</td>\n",
       "      <td>316459.0</td>\n",
       "      <td>680.0</td>\n",
       "      <td>786.0</td>\n",
       "      <td>354.0</td>\n",
       "    </tr>\n",
       "  </tbody>\n",
       "</table>\n",
       "<p>673 rows × 5 columns</p>\n",
       "</div>"
      ],
      "text/plain": [
       "     Event Start Trial Time [ms]  Event End Trial Time [ms]  \\\n",
       "0                            0.0                      165.0   \n",
       "1                          250.0                      370.0   \n",
       "2                          388.0                     1018.0   \n",
       "3                         1306.0                     1406.0   \n",
       "4                         1416.0                     2765.0   \n",
       "..                           ...                        ...   \n",
       "668                     314155.0                   314825.0   \n",
       "669                     314869.0                   315139.0   \n",
       "670                     315166.0                   315236.0   \n",
       "671                     315256.0                   315356.0   \n",
       "672                     315779.0                   316459.0   \n",
       "\n",
       "     Event Duration [ms]  Visual Intake Position X [px]  \\\n",
       "0                  165.0                          851.0   \n",
       "1                  120.0                          879.0   \n",
       "2                  630.0                          864.0   \n",
       "3                  100.0                          892.0   \n",
       "4                 1349.0                          895.0   \n",
       "..                   ...                            ...   \n",
       "668                670.0                          863.0   \n",
       "669                270.0                          826.0   \n",
       "670                 70.0                          744.0   \n",
       "671                100.0                          688.0   \n",
       "672                680.0                          786.0   \n",
       "\n",
       "     Visual Intake Position Y [px]  \n",
       "0                            508.0  \n",
       "1                            477.0  \n",
       "2                            466.0  \n",
       "3                            839.0  \n",
       "4                            627.0  \n",
       "..                             ...  \n",
       "668                          697.0  \n",
       "669                          576.0  \n",
       "670                          609.0  \n",
       "671                          653.0  \n",
       "672                          354.0  \n",
       "\n",
       "[673 rows x 5 columns]"
      ]
     },
     "execution_count": 16,
     "metadata": {},
     "output_type": "execute_result"
    }
   ],
   "source": [
    "cgom_data"
   ]
  },
  {
   "cell_type": "markdown",
   "metadata": {},
   "source": [
    "#### average fixation duration"
   ]
  },
  {
   "cell_type": "code",
   "execution_count": 5,
   "metadata": {},
   "outputs": [
    {
     "data": {
      "text/plain": [
       "382.2436849925706"
      ]
     },
     "execution_count": 5,
     "metadata": {},
     "output_type": "execute_result"
    }
   ],
   "source": [
    "avg_fixation_duration = statistics.fmean(cgom_data['Event Duration [ms]'])"
   ]
  },
  {
   "cell_type": "markdown",
   "metadata": {},
   "source": [
    "#### import of saccade file"
   ]
  },
  {
   "cell_type": "code",
   "execution_count": null,
   "metadata": {},
   "outputs": [],
   "source": []
  }
 ],
 "metadata": {
  "kernelspec": {
   "display_name": "Python 3.9.0 ('test2')",
   "language": "python",
   "name": "python3"
  },
  "language_info": {
   "codemirror_mode": {
    "name": "ipython",
    "version": 3
   },
   "file_extension": ".py",
   "mimetype": "text/x-python",
   "name": "python",
   "nbconvert_exporter": "python",
   "pygments_lexer": "ipython3",
   "version": "3.9.0"
  },
  "orig_nbformat": 4,
  "vscode": {
   "interpreter": {
    "hash": "0b8e622f0dd937c9fe073889a7ecaa90b0e3e2d474d6087af95db959ad884cbd"
   }
  }
 },
 "nbformat": 4,
 "nbformat_minor": 2
}
