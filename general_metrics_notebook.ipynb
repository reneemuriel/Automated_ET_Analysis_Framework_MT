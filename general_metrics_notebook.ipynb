{
 "cells": [
  {
   "cell_type": "code",
   "execution_count": null,
   "metadata": {},
   "outputs": [],
   "source": [
    "from calendar import c\n",
    "from ntpath import join\n",
    "from re import A\n",
    "from zlib import DEF_BUF_SIZE\n",
    "import pandas as pd\n",
    "import seaborn as sns # added to OGM_HMM\n",
    "import numpy as np\n",
    "import matplotlib.pyplot as plt\n",
    "import shutil\n",
    "from glob import glob\n",
    "from pathlib import Path\n",
    "# from os import path\n",
    "import os\n",
    "# import glob\n",
    "from IPython.display import display\n",
    "\n",
    "import statistics\n",
    "\n",
    "import tobii_to_saccades"
   ]
  },
  {
   "cell_type": "markdown",
   "metadata": {},
   "source": [
    "#### nested list test"
   ]
  },
  {
   "cell_type": "code",
   "execution_count": 11,
   "metadata": {},
   "outputs": [],
   "source": [
    "lst = []\n",
    "lst_1=[1,2,3]\n",
    "lst_2=[4,5,6]\n",
    "for i in range(3):\n",
    "    lst.append([])\n",
    "    for j in range(2):\n",
    "        lst[i].insert(j,lst_1)\n",
    "\n",
    "e=3\n"
   ]
  },
  {
   "cell_type": "markdown",
   "metadata": {},
   "source": [
    "# general metrics"
   ]
  },
  {
   "cell_type": "code",
   "execution_count": null,
   "metadata": {},
   "outputs": [],
   "source": [
    "# import\n",
    "trial_path = 'Data/gaze_input_for_tobiitocgom/group 1/participant10_trial03'\n",
    "fixationdata = pd.read_csv(trial_path + '_cgom.txt', sep='\\t')"
   ]
  },
  {
   "cell_type": "code",
   "execution_count": null,
   "metadata": {},
   "outputs": [],
   "source": [
    "fixationdata.iloc[-1]['Event End Trial Time [ms]']"
   ]
  },
  {
   "cell_type": "code",
   "execution_count": null,
   "metadata": {},
   "outputs": [],
   "source": [
    "fixationdata.iloc[1]['Event Start Trial Time [ms]']"
   ]
  },
  {
   "cell_type": "markdown",
   "metadata": {},
   "source": [
    "#### average fixation duration"
   ]
  },
  {
   "cell_type": "code",
   "execution_count": null,
   "metadata": {},
   "outputs": [],
   "source": [
    "avg_fixation_duration = statistics.fmean(fixationdata['Event Duration [ms]'])"
   ]
  },
  {
   "cell_type": "markdown",
   "metadata": {},
   "source": [
    "#### total number of fixations"
   ]
  },
  {
   "cell_type": "code",
   "execution_count": null,
   "metadata": {},
   "outputs": [],
   "source": [
    "len(fixationdata)"
   ]
  },
  {
   "cell_type": "markdown",
   "metadata": {},
   "source": [
    "#### saccade calculations"
   ]
  },
  {
   "cell_type": "code",
   "execution_count": 1,
   "metadata": {},
   "outputs": [
    {
     "name": "stdout",
     "output_type": "stream",
     "text": [
      "file: participant22_trial22_tobii was reformatted successfully\n",
      "file: participant22_trial22_tobii was reformatted successfully\n"
     ]
    },
    {
     "name": "stderr",
     "output_type": "stream",
     "text": [
      "c:\\Users\\renee\\OneDrive\\Dokumente\\ETHZ\\Master_Thesis\\05_Framework\\Framework\\tobii_to_fixations.py:44: FutureWarning: In a future version of pandas all arguments of DataFrame.drop except for the argument 'labels' will be keyword-only.\n",
      "  df_out = df_out.drop(['change_x', 'change_y'], 1)\n"
     ]
    }
   ],
   "source": [
    "import tobii_to_saccades\n",
    "import pandas as pd\n",
    "import statistics\n",
    "import tobii_to_fixations\n",
    "trial_path = 'Data/gaze_input_tobii_selfrecorded/try1/participant22_trial22'\n",
    "filename = trial_path + '_tobii.tsv'\n",
    "tobii_to_saccades.reformat(filename, trial_path)\n",
    "saccadedata = pd.read_csv(trial_path + '_saccades.txt', sep='\\t')\n",
    "tobii_to_fixations.reformat(filename, trial_path)\n",
    "fixationdata = pd.read_csv(trial_path + '_fixations.txt', sep = '\\t')"
   ]
  },
  {
   "cell_type": "code",
   "execution_count": 2,
   "metadata": {},
   "outputs": [
    {
     "data": {
      "text/html": [
       "<div>\n",
       "<style scoped>\n",
       "    .dataframe tbody tr th:only-of-type {\n",
       "        vertical-align: middle;\n",
       "    }\n",
       "\n",
       "    .dataframe tbody tr th {\n",
       "        vertical-align: top;\n",
       "    }\n",
       "\n",
       "    .dataframe thead th {\n",
       "        text-align: right;\n",
       "    }\n",
       "</style>\n",
       "<table border=\"1\" class=\"dataframe\">\n",
       "  <thead>\n",
       "    <tr style=\"text-align: right;\">\n",
       "      <th></th>\n",
       "      <th>Event Start Trial Time [ms]</th>\n",
       "      <th>Event End Trial Time [ms]</th>\n",
       "      <th>Event Duration [ms]</th>\n",
       "    </tr>\n",
       "  </thead>\n",
       "  <tbody>\n",
       "    <tr>\n",
       "      <th>0</th>\n",
       "      <td>317.665</td>\n",
       "      <td>347.665</td>\n",
       "      <td>30.0</td>\n",
       "    </tr>\n",
       "    <tr>\n",
       "      <th>1</th>\n",
       "      <td>319.826</td>\n",
       "      <td>349.826</td>\n",
       "      <td>30.0</td>\n",
       "    </tr>\n",
       "    <tr>\n",
       "      <th>2</th>\n",
       "      <td>323.053</td>\n",
       "      <td>353.053</td>\n",
       "      <td>30.0</td>\n",
       "    </tr>\n",
       "    <tr>\n",
       "      <th>3</th>\n",
       "      <td>327.365</td>\n",
       "      <td>357.365</td>\n",
       "      <td>30.0</td>\n",
       "    </tr>\n",
       "    <tr>\n",
       "      <th>4</th>\n",
       "      <td>329.818</td>\n",
       "      <td>359.818</td>\n",
       "      <td>30.0</td>\n",
       "    </tr>\n",
       "    <tr>\n",
       "      <th>...</th>\n",
       "      <td>...</td>\n",
       "      <td>...</td>\n",
       "      <td>...</td>\n",
       "    </tr>\n",
       "    <tr>\n",
       "      <th>3229</th>\n",
       "      <td>104589.216</td>\n",
       "      <td>104639.216</td>\n",
       "      <td>50.0</td>\n",
       "    </tr>\n",
       "    <tr>\n",
       "      <th>3230</th>\n",
       "      <td>104591.847</td>\n",
       "      <td>104641.847</td>\n",
       "      <td>50.0</td>\n",
       "    </tr>\n",
       "    <tr>\n",
       "      <th>3231</th>\n",
       "      <td>104594.740</td>\n",
       "      <td>104644.740</td>\n",
       "      <td>50.0</td>\n",
       "    </tr>\n",
       "    <tr>\n",
       "      <th>3232</th>\n",
       "      <td>104599.233</td>\n",
       "      <td>104649.233</td>\n",
       "      <td>50.0</td>\n",
       "    </tr>\n",
       "    <tr>\n",
       "      <th>3233</th>\n",
       "      <td>104601.472</td>\n",
       "      <td>104651.472</td>\n",
       "      <td>50.0</td>\n",
       "    </tr>\n",
       "  </tbody>\n",
       "</table>\n",
       "<p>3234 rows × 3 columns</p>\n",
       "</div>"
      ],
      "text/plain": [
       "      Event Start Trial Time [ms]  Event End Trial Time [ms]  \\\n",
       "0                         317.665                    347.665   \n",
       "1                         319.826                    349.826   \n",
       "2                         323.053                    353.053   \n",
       "3                         327.365                    357.365   \n",
       "4                         329.818                    359.818   \n",
       "...                           ...                        ...   \n",
       "3229                   104589.216                 104639.216   \n",
       "3230                   104591.847                 104641.847   \n",
       "3231                   104594.740                 104644.740   \n",
       "3232                   104599.233                 104649.233   \n",
       "3233                   104601.472                 104651.472   \n",
       "\n",
       "      Event Duration [ms]  \n",
       "0                    30.0  \n",
       "1                    30.0  \n",
       "2                    30.0  \n",
       "3                    30.0  \n",
       "4                    30.0  \n",
       "...                   ...  \n",
       "3229                 50.0  \n",
       "3230                 50.0  \n",
       "3231                 50.0  \n",
       "3232                 50.0  \n",
       "3233                 50.0  \n",
       "\n",
       "[3234 rows x 3 columns]"
      ]
     },
     "execution_count": 2,
     "metadata": {},
     "output_type": "execute_result"
    }
   ],
   "source": [
    "saccadedata"
   ]
  },
  {
   "cell_type": "code",
   "execution_count": null,
   "metadata": {},
   "outputs": [],
   "source": [
    "# average saccade duration\n",
    "statistics.fmean(saccadedata['Event Duration [ms]'])"
   ]
  },
  {
   "cell_type": "code",
   "execution_count": null,
   "metadata": {},
   "outputs": [],
   "source": [
    "# number of saccades\n",
    "len(saccadedata)"
   ]
  },
  {
   "cell_type": "code",
   "execution_count": null,
   "metadata": {},
   "outputs": [],
   "source": [
    "sum(saccadedata['Event Duration [ms]'])"
   ]
  },
  {
   "cell_type": "markdown",
   "metadata": {},
   "source": [
    "#### fixation saccade ratio"
   ]
  },
  {
   "cell_type": "code",
   "execution_count": 15,
   "metadata": {},
   "outputs": [
    {
     "name": "stdout",
     "output_type": "stream",
     "text": [
      "33:67\n"
     ]
    }
   ],
   "source": [
    "tot_fix = sum(fixationdata['Event Duration [ms]'])\n",
    "tot_sac = sum(saccadedata['Event Duration [ms]'])\n",
    "percent_fix = tot_fix / (tot_fix + tot_sac) * 100\n",
    "percent_sac = tot_sac / (tot_fix + tot_sac) * 100\n",
    "ratio_as_string = '{}:{}'.format(round(percent_fix), round(percent_sac))\n",
    "print(ratio_as_string)\n",
    "\n"
   ]
  },
  {
   "cell_type": "code",
   "execution_count": null,
   "metadata": {},
   "outputs": [],
   "source": []
  }
 ],
 "metadata": {
  "kernelspec": {
   "display_name": "Python 3.9.0 ('test2')",
   "language": "python",
   "name": "python3"
  },
  "language_info": {
   "codemirror_mode": {
    "name": "ipython",
    "version": 3
   },
   "file_extension": ".py",
   "mimetype": "text/x-python",
   "name": "python",
   "nbconvert_exporter": "python",
   "pygments_lexer": "ipython3",
   "version": "3.8.13"
  },
  "orig_nbformat": 4,
  "vscode": {
   "interpreter": {
    "hash": "0b8e622f0dd937c9fe073889a7ecaa90b0e3e2d474d6087af95db959ad884cbd"
   }
  }
 },
 "nbformat": 4,
 "nbformat_minor": 2
}
