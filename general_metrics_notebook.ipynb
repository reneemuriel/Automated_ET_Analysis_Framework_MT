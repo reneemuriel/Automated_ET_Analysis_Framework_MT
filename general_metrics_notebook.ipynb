{
 "cells": [
  {
   "cell_type": "code",
   "execution_count": null,
   "metadata": {},
   "outputs": [],
   "source": [
    "from calendar import c\n",
    "from ntpath import join\n",
    "from re import A\n",
    "from zlib import DEF_BUF_SIZE\n",
    "import pandas as pd\n",
    "import seaborn as sns # added to OGM_HMM\n",
    "import numpy as np\n",
    "import matplotlib.pyplot as plt\n",
    "import shutil\n",
    "from glob import glob\n",
    "from pathlib import Path\n",
    "# from os import path\n",
    "import os\n",
    "# import glob\n",
    "from IPython.display import display\n",
    "\n",
    "import statistics\n",
    "\n",
    "import tobii_to_saccades"
   ]
  },
  {
   "cell_type": "code",
   "execution_count": null,
   "metadata": {},
   "outputs": [],
   "source": [
    "# import\n",
    "trial_path = 'Data/gaze_input_for_tobiitocgom/group 1/participant10_trial03'\n",
    "fixationdata = pd.read_csv(trial_path + '_cgom.txt', sep='\\t')"
   ]
  },
  {
   "cell_type": "code",
   "execution_count": null,
   "metadata": {},
   "outputs": [],
   "source": [
    "fixationdata.iloc[-1]['Event End Trial Time [ms]']"
   ]
  },
  {
   "cell_type": "code",
   "execution_count": null,
   "metadata": {},
   "outputs": [],
   "source": [
    "fixationdata.iloc[1]['Event Start Trial Time [ms]']"
   ]
  },
  {
   "cell_type": "markdown",
   "metadata": {},
   "source": [
    "#### average fixation duration"
   ]
  },
  {
   "cell_type": "code",
   "execution_count": null,
   "metadata": {},
   "outputs": [],
   "source": [
    "avg_fixation_duration = statistics.fmean(fixationdata['Event Duration [ms]'])"
   ]
  },
  {
   "cell_type": "markdown",
   "metadata": {},
   "source": [
    "#### total number of fixations"
   ]
  },
  {
   "cell_type": "code",
   "execution_count": null,
   "metadata": {},
   "outputs": [],
   "source": [
    "len(fixationdata)"
   ]
  },
  {
   "cell_type": "markdown",
   "metadata": {},
   "source": [
    "#### saccade calculations"
   ]
  },
  {
   "cell_type": "code",
   "execution_count": 11,
   "metadata": {},
   "outputs": [
    {
     "name": "stdout",
     "output_type": "stream",
     "text": [
      "file: participant22_trial22_tobii was reformatted successfully\n",
      "file: participant22_trial22_tobii was reformatted successfully\n"
     ]
    },
    {
     "name": "stderr",
     "output_type": "stream",
     "text": [
      "c:\\Users\\renee\\OneDrive\\Dokumente\\ETHZ\\Master_Thesis\\05_Framework\\Framework_first_try\\tobii_to_fixations.py:44: FutureWarning: In a future version of pandas all arguments of DataFrame.drop except for the argument 'labels' will be keyword-only.\n",
      "  df_out = df_out.drop(['change_x', 'change_y'], 1)\n"
     ]
    }
   ],
   "source": [
    "import tobii_to_saccades\n",
    "import pandas as pd\n",
    "import statistics\n",
    "import tobii_to_fixations\n",
    "trial_path = 'Data/gaze_input_tobii_selfrecorded/try1/participant22_trial22'\n",
    "filename = trial_path + '_tobii.tsv'\n",
    "tobii_to_saccades.reformat(filename, trial_path)\n",
    "saccadedata = pd.read_csv(trial_path + '_saccades.txt', sep='\\t')\n",
    "tobii_to_fixations.reformat(filename, trial_path)\n",
    "fixationdata = pd.read_csv(trial_path + '_fixations.txt', sep = '\\t')"
   ]
  },
  {
   "cell_type": "code",
   "execution_count": null,
   "metadata": {},
   "outputs": [],
   "source": [
    "saccadedata"
   ]
  },
  {
   "cell_type": "code",
   "execution_count": null,
   "metadata": {},
   "outputs": [],
   "source": [
    "# average saccade duration\n",
    "statistics.fmean(saccadedata['Event Duration [ms]'])"
   ]
  },
  {
   "cell_type": "code",
   "execution_count": null,
   "metadata": {},
   "outputs": [],
   "source": [
    "# number of saccades\n",
    "len(saccadedata)"
   ]
  },
  {
   "cell_type": "code",
   "execution_count": null,
   "metadata": {},
   "outputs": [],
   "source": [
    "sum(saccadedata['Event Duration [ms]'])"
   ]
  },
  {
   "cell_type": "markdown",
   "metadata": {},
   "source": [
    "#### fixation saccade ratio"
   ]
  },
  {
   "cell_type": "code",
   "execution_count": 15,
   "metadata": {},
   "outputs": [
    {
     "name": "stdout",
     "output_type": "stream",
     "text": [
      "33:67\n"
     ]
    }
   ],
   "source": [
    "tot_fix = sum(fixationdata['Event Duration [ms]'])\n",
    "tot_sac = sum(saccadedata['Event Duration [ms]'])\n",
    "percent_fix = tot_fix / (tot_fix + tot_sac) * 100\n",
    "percent_sac = tot_sac / (tot_fix + tot_sac) * 100\n",
    "ratio_as_string = '{}:{}'.format(round(percent_fix), round(percent_sac))\n",
    "print(ratio_as_string)\n",
    "\n"
   ]
  },
  {
   "cell_type": "code",
   "execution_count": null,
   "metadata": {},
   "outputs": [],
   "source": []
  }
 ],
 "metadata": {
  "kernelspec": {
   "display_name": "Python 3.9.0 ('test2')",
   "language": "python",
   "name": "python3"
  },
  "language_info": {
   "codemirror_mode": {
    "name": "ipython",
    "version": 3
   },
   "file_extension": ".py",
   "mimetype": "text/x-python",
   "name": "python",
   "nbconvert_exporter": "python",
   "pygments_lexer": "ipython3",
   "version": "3.9.0"
  },
  "orig_nbformat": 4,
  "vscode": {
   "interpreter": {
    "hash": "0b8e622f0dd937c9fe073889a7ecaa90b0e3e2d474d6087af95db959ad884cbd"
   }
  }
 },
 "nbformat": 4,
 "nbformat_minor": 2
}
